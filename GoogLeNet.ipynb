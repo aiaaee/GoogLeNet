{
  "nbformat": 4,
  "nbformat_minor": 0,
  "metadata": {
    "colab": {
      "provenance": [],
      "authorship_tag": "ABX9TyOPbPw/xht8IvoASlSDmRHH",
      "include_colab_link": true
    },
    "kernelspec": {
      "name": "python3",
      "display_name": "Python 3"
    },
    "language_info": {
      "name": "python"
    }
  },
  "cells": [
    {
      "cell_type": "markdown",
      "metadata": {
        "id": "view-in-github",
        "colab_type": "text"
      },
      "source": [
        "<a href=\"https://colab.research.google.com/github/aiaaee/GoogLeNet/blob/main/GoogLeNet.ipynb\" target=\"_parent\"><img src=\"https://colab.research.google.com/assets/colab-badge.svg\" alt=\"Open In Colab\"/></a>"
      ]
    },
    {
      "cell_type": "code",
      "source": [
        "import torch.nn as nn\n",
        "import torch.nn.functional as F\n",
        "import torch"
      ],
      "metadata": {
        "id": "8Eq6Kx7i2rCO"
      },
      "execution_count": 2,
      "outputs": []
    },
    {
      "cell_type": "code",
      "execution_count": 24,
      "metadata": {
        "id": "uDEkJ7jN2kvE"
      },
      "outputs": [],
      "source": [
        "class BasicConv2d(nn.Module):\n",
        "  def __init__(self , in_channel=int  , out_channel=int , kernel_size=int , stride=int , padding=int , *args , **kwargs):\n",
        "    super().__init__(*args , **kwargs)\n",
        "    self.conv = nn.Conv2d(in_channels = in_channel , out_channels = out_channel , kernel_size=kernel_size , stride=stride , padding=padding, **kwargs)\n",
        "    self.bn = nn.BatchNorm2d(out_channel)\n",
        "    self.relu = nn.ReLU()\n",
        "\n",
        "  def forward(self , x ):\n",
        "    x = self.conv(x)\n",
        "    x = self.bn(x)\n",
        "    x = self.relu(x)\n",
        "    return x\n",
        "\n",
        "\n",
        "class Inception_Module(nn.Module):\n",
        "  def __init__(self , in_channel , in_layer1_1 , in_layer2_1 , in_layer2_2,in_layer3_1 , in_layer3_2 , in_layer4_2) :\n",
        "    super().__init__()\n",
        "    self.b1 = BasicConv2d(in_channel , in_layer1_1 , kernel_size=1 , stride=1 , padding=0)\n",
        "    self.b2 = nn.Sequential(\n",
        "        BasicConv2d(in_channel , in_layer2_1 , kernel_size=1, stride=1 , padding=0),\n",
        "        BasicConv2d(in_layer2_1 , in_layer2_2 , kernel_size=3, stride=1 , padding=1),\n",
        "    )\n",
        "    self.b3 = nn.Sequential(\n",
        "        BasicConv2d(in_channel , in_layer3_1 , kernel_size=1 ,  stride=1 , padding=0) ,\n",
        "        BasicConv2d(in_layer3_1 , in_layer3_2 , kernel_size=5 ,  stride=1 , padding=2)\n",
        "    )\n",
        "    self.b4 = nn.Sequential(\n",
        "        nn.MaxPool2d(kernel_size=(3,3) , stride=1 , padding=1) ,\n",
        "        BasicConv2d(in_channel , in_layer4_2 , kernel_size=1 , stride=1 , padding=0)\n",
        "    )\n",
        "\n",
        "  def forward(self,x ):\n",
        "    b1 = self.b1(x)\n",
        "    b2 = self.b2(x)\n",
        "    b3 = self.b3(x)\n",
        "    b4 = self.b4(x)\n",
        "    x =  torch.cat([b1 , b2 , b3 , b4 ] , 1 )\n",
        "    return x"
      ]
    },
    {
      "cell_type": "code",
      "source": [
        "class GoogLeNet(nn.Module):\n",
        "  def __init__(self , in_channel , output , *args , **kwargs):\n",
        "    super().__init__(*args , **kwargs)\n",
        "    self.conv1 = BasicConv2d(in_channel , 64 , kernel_size=7 , stride=2 , padding=3)\n",
        "    self.maxpool1 = nn.MaxPool2d(kernel_size=(3,3) , stride=2 , padding=1)\n",
        "    self.lrn1 = nn.LocalResponseNorm(size=5 , alpha=0.0001 , beta=0.75 , k=2)\n",
        "    self.conv2 = BasicConv2d(64 , 64 , kernel_size=1 , stride=1 , padding=0)\n",
        "    self.conv3 = BasicConv2d(64 , 192 , kernel_size=3 , stride=1 , padding=2)\n",
        "    self.lrn2 = nn.LocalResponseNorm(size=5 , alpha=0.0001 , beta=0.75 , k=2)\n",
        "    self.maxpool2 = nn.MaxPool2d(kernel_size=3 , stride=2 , padding=1)\n",
        "    self.inception1 = Inception_Module(192 , 64 , 96 , 128 , 12 , 32 , 32 )\n",
        "    self.inception2 = Inception_Module(256 , 128 , 128 , 192 , 32 , 96 , 64)\n",
        "    self.maxpool3 = nn.MaxPool2d(kernel_size=3 , stride=2 , padding=1)\n",
        "    self.inception3 = Inception_Module(480 , 192 , 96 , 208 , 16 , 48 , 64)\n",
        "    self.inception4 = Inception_Module(512 , 160 , 112 , 224 , 24 , 64 , 64 )\n",
        "    self.inception5 = Inception_Module(512 , 128 , 128 , 256 , 24 , 64 , 64)\n",
        "    self.inception6 = Inception_Module(512 , 112 , 144 , 288 , 32 , 64 , 64 )\n",
        "    self.inception7 = Inception_Module(528 ,  256 , 160  ,320 , 32 , 128 , 128)\n",
        "    self.maxpool4 = nn.MaxPool2d(kernel_size=3 , stride=2 , padding=1)\n",
        "    self.inception8 = Inception_Module(832 , 256 , 160 , 320, 32 , 128 , 128)\n",
        "    self.inception9 = Inception_Module(832 , 384 , 192 , 384 , 48 , 128 , 128)\n",
        "    self.gavgpool = nn.AdaptiveAvgPool2d((1 , 1 ))\n",
        "    self.flat = nn.Flatten()\n",
        "    self.dropout = nn.Dropout2d(0.4)\n",
        "    self.classifier1 = nn.Linear(832 , 1000)\n",
        "    self.classifier2 = nn.Linear(1000 , output)\n",
        "  def forward(self , x ):\n",
        "    x = self.conv1(x)\n",
        "    x = self.maxpool1(x)\n",
        "    x = self.lrn1(x)\n",
        "    x = self.conv2(x)\n",
        "    x = self.conv3(x)\n",
        "    x = self.lrn2(x)\n",
        "    x = self.maxpool2(x)\n",
        "    x = self.inception1(x)\n",
        "    x = self.inception2(x)\n",
        "    x = self.maxpool3(x)\n",
        "    x = self.inception3(x)\n",
        "    x = self.inception4(x)\n",
        "    x = self.inception5(x)\n",
        "    x = self.inception6(x)\n",
        "    x = self.inception7(x)\n",
        "    x = self.maxpool4(x)\n",
        "    x = self.inception8(x)\n",
        "    x = self.gavgpool(x)\n",
        "    x = self.flat(x)\n",
        "    x = self.dropout(x)\n",
        "    x = self.classifier1(x)\n",
        "    x = self.classifier2(x)\n",
        "    return  x\n",
        "\n",
        "\n"
      ],
      "metadata": {
        "id": "exxOM_wLL8Bp"
      },
      "execution_count": 85,
      "outputs": []
    },
    {
      "cell_type": "code",
      "source": [
        "x = torch.randn(32 , 3 , 224 , 224)\n",
        "model = GoogLeNet(3 , 10)\n",
        "model(x).size()"
      ],
      "metadata": {
        "colab": {
          "base_uri": "https://localhost:8080/"
        },
        "id": "-eL4RaRUOKts",
        "outputId": "709da37d-2569-4d1a-d1e7-eade3b20269f"
      },
      "execution_count": 86,
      "outputs": [
        {
          "output_type": "execute_result",
          "data": {
            "text/plain": [
              "torch.Size([32, 10])"
            ]
          },
          "metadata": {},
          "execution_count": 86
        }
      ]
    }
  ]
}