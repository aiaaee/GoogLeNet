{
  "nbformat": 4,
  "nbformat_minor": 0,
  "metadata": {
    "colab": {
      "provenance": [],
      "authorship_tag": "ABX9TyMuHKQSirZw045Y4l4JyS3B",
      "include_colab_link": true
    },
    "kernelspec": {
      "name": "python3",
      "display_name": "Python 3"
    },
    "language_info": {
      "name": "python"
    }
  },
  "cells": [
    {
      "cell_type": "markdown",
      "metadata": {
        "id": "view-in-github",
        "colab_type": "text"
      },
      "source": [
        "<a href=\"https://colab.research.google.com/github/aiaaee/GoogLeNet-Architecture/blob/main/GoogLeNet.ipynb\" target=\"_parent\"><img src=\"https://colab.research.google.com/assets/colab-badge.svg\" alt=\"Open In Colab\"/></a>"
      ]
    },
    {
      "cell_type": "code",
      "source": [
        "import torch.nn as nn\n",
        "import torch.nn.functional as F\n",
        "import torch"
      ],
      "metadata": {
        "id": "8Eq6Kx7i2rCO"
      },
      "execution_count": 4,
      "outputs": []
    },
    {
      "cell_type": "code",
      "execution_count": 2,
      "metadata": {
        "id": "uDEkJ7jN2kvE"
      },
      "outputs": [],
      "source": [
        "class BasicConv2d(nn.Module):\n",
        "  def __init__(self , in_channel  , out_channel , kernel_size , stride , padding , *args , **kwargs):\n",
        "    super().__init__(*args , **kwargs)\n",
        "    self.conv = nn.Conv2d(in_channels = in_channel , out_channels = out_channel , kernel_size=kernel_size , stride=stride , padding=padding, **kwargs)\n",
        "    self.bn = nn.BatchNorm2d(out_channel)\n",
        "    self.relu = nn.ReLU()\n",
        "\n",
        "  def forward(self , x ):\n",
        "    x = self.conv(x)\n",
        "    x = self.bn(x)\n",
        "    x = self.relu(x)\n",
        "    return x"
      ]
    },
    {
      "cell_type": "code",
      "source": [
        "class Inception_Module(nn.Module):\n",
        "  def __init__(self , in_channel , in_layer1_1 , in_layer2_1 , in_layer2_2,in_layer3_1 , in_layer3_2 , in_layer4_2) :\n",
        "    super().__init__()\n",
        "    self.b1 = BasicConv2d(in_channel , in_layer1_1 , kernel_size=1 , stride=1 , padding=0)\n",
        "    self.b2 = nn.Sequential(\n",
        "        BasicConv2d(in_channel , in_layer2_1 , kernel_size=1, stride=1 , padding=0),\n",
        "        BasicConv2d(in_layer2_1 , in_layer2_2 , kernel_size=3, stride=1 , padding=1),\n",
        "    )\n",
        "    self.b3 = nn.Sequential(\n",
        "        BasicConv2d(in_channel , in_layer3_1 , kernel_size=1 ,  stride=1 , padding=0) ,\n",
        "        BasicConv2d(in_layer3_1 , in_layer3_2 , kernel_size=5 ,  stride=1 , padding=2)\n",
        "    )\n",
        "    self.b4 = nn.Sequential(\n",
        "        nn.MaxPool2d(kernel_size=(3,3) , stride=1 , padding=1) ,\n",
        "        BasicConv2d(in_channel , in_layer4_2 , kernel_size=1 , stride=1 , padding=0)\n",
        "    )\n",
        "  def forward(self,x ):\n",
        "    b1 = self.b1(x)\n",
        "    b2 = self.b2(x)\n",
        "    b3 = self.b3(x)\n",
        "    b4 = self.b4(x)\n",
        "    x =  torch.cat([b1 , b2 , b3 , b4 ] , 1 )\n",
        "    return x"
      ],
      "metadata": {
        "id": "fMr6IWSd2wzr"
      },
      "execution_count": 3,
      "outputs": []
    },
    {
      "cell_type": "code",
      "source": [],
      "metadata": {
        "id": "3lbyB9xM2ywn"
      },
      "execution_count": null,
      "outputs": []
    }
  ]
}